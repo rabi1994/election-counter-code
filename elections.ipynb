{
 "cells": [
  {
   "cell_type": "code",
   "execution_count": 16,
   "metadata": {},
   "outputs": [],
   "source": [
    "#starter if we don't have any data \n",
    "time_data=pd.DataFrame(columns=('time','hour','shift'))\n",
    "num_of_voters=0"
   ]
  },
  {
   "cell_type": "code",
   "execution_count": null,
   "metadata": {},
   "outputs": [
    {
     "name": "stdout",
     "output_type": "stream",
     "text": [
      "file exist!\n"
     ]
    }
   ],
   "source": [
    "from datetime import datetime\n",
    "\n",
    "\n",
    "import pandas as pd \n",
    "try:\n",
    "    with open('num_of_voters.txt') as f:\n",
    "        f.readlines()\n",
    "        print(\"file exist!\")\n",
    "except IOError:\n",
    "    print(\"no file exist creating file..\")\n",
    "    file = open(\"\",'w')\n",
    "    file.write(\"0\")\n",
    "    file.close()\n",
    "\n",
    "\n",
    "\n",
    "import tkinter as tk\n",
    "from tkinter import ttk\n",
    "\n",
    "def exit_and_save():\n",
    "    global num_of_voters\n",
    "    global windows\n",
    "    global time_data\n",
    "    \n",
    "    try:\n",
    "        with open('num_of_voters.txt','w') as f:\n",
    "            f.write(str(num_of_voters))\n",
    "            print('writining to file\\nexit')\n",
    "    except IOError:\n",
    "            print(\"failed to write to file\")\n",
    "    time_data.to_csv('voters_data.csv',index=False)\n",
    "    windows.destroy()\n",
    "with open('num_of_voters.txt') as reader:\n",
    "   num_of_voters=int(reader.readline())\n",
    "try:\n",
    "    time_data=pd.read_csv('voters_data.csv')\n",
    "except IOError:\n",
    "    print('error reading file\\ncreating new one')\n",
    "    time_data=pd.DataFrame(columns=('time','hour','shift'))\n",
    "\n",
    "    \n",
    "#count = 0\n",
    "\n",
    "def clicked(): # without event because I use `command=` instead of `bind`\n",
    "    global num_of_voters\n",
    "    global time_data\n",
    "    now = datetime.now()\n",
    "    #print(num_of_voters)\n",
    "    current_time = now.strftime(\"%H:%M:%S\")\n",
    "    hour=now.strftime(\"%H\")\n",
    "    if(int(hour)<15):\n",
    "        shift=1\n",
    "    else:\n",
    "        shift=2\n",
    "    time_data.loc[num_of_voters]=[current_time]+[hour]+[shift]\n",
    "    num_of_voters +=  1\n",
    "        \n",
    "    label1.configure(text=f'num of votes {num_of_voters} !')\n",
    "\n",
    "\n",
    "windows = tk.Tk()\n",
    "windows.title(\"election\")\n",
    "windows.protocol(\"WM_DELETE_WINDOW\", exit_and_save)\n",
    "label = tk.Label(windows, text=\"for voting click vote\")\n",
    "label.grid(column=0, row=0)\n",
    "\n",
    "label1 = tk.Label(windows)\n",
    "label1.grid(column=1, row=1)\n",
    "\n",
    "custom_button = ttk.Button(windows, text=\"vote\", command=clicked)\n",
    "custom_button.grid(column=2, row=0)\n",
    "#exit_button= ttk.Button(windows,text=\"exit\",command=exit_and_save)\n",
    "#exit_button.grid(column=1, row=2)\n",
    "windows.mainloop()"
   ]
  },
  {
   "cell_type": "code",
   "execution_count": null,
   "metadata": {},
   "outputs": [],
   "source": [
    "#10:15"
   ]
  }
 ],
 "metadata": {
  "kernelspec": {
   "display_name": "Python 3",
   "language": "python",
   "name": "python3"
  },
  "language_info": {
   "codemirror_mode": {
    "name": "ipython",
    "version": 3
   },
   "file_extension": ".py",
   "mimetype": "text/x-python",
   "name": "python",
   "nbconvert_exporter": "python",
   "pygments_lexer": "ipython3",
   "version": "3.8.5"
  }
 },
 "nbformat": 4,
 "nbformat_minor": 4
}
